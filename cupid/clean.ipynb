{
 "cells": [
  {
   "cell_type": "markdown",
   "metadata": {},
   "source": [
    "# OKCupid Clean Data\n",
    "\n",
    "OKCupid's website returns some partially hidden text when it is too long for their layout.\n",
    "Lets skip these and just focus on the fully named places.\n"
   ]
  },
  {
   "cell_type": "code",
   "execution_count": 208,
   "metadata": {
    "collapsed": false
   },
   "outputs": [],
   "source": [
    "%matplotlib inline\n",
    "import time\n",
    "import pylab\n",
    "import numpy as np\n",
    "import pandas as pd\n",
    "import pycupid.locations"
   ]
  },
  {
   "cell_type": "code",
   "execution_count": 5,
   "metadata": {
    "collapsed": false
   },
   "outputs": [
    {
     "name": "stdout",
     "output_type": "stream",
     "text": [
      "Scraping archive found 337,153 random people\n"
     ]
    }
   ],
   "source": [
    "people = pd.read_json('/Users/ajmendez/data/okcupid/random.json')\n",
    "print('Scraping archive found {:,d} random people'.format(len(people)))"
   ]
  },
  {
   "cell_type": "markdown",
   "metadata": {},
   "source": [
    "* Locations are generally [city name], [state abbr].\n",
    "* However there are a number of locations that where too long for the search page and are abbreviated with a unicode u'\\u2026'\n",
    "* Lets ignore these places on our first pass and then return to them later -- ~14% loss of locations"
   ]
  },
  {
   "cell_type": "code",
   "execution_count": 271,
   "metadata": {
    "collapsed": false
   },
   "outputs": [
    {
     "name": "stdout",
     "output_type": "stream",
     "text": [
      "There are a total of 21,689 unique locations and 18,643 good ones\n",
      "  > missing locations: 14.0%\n",
      "  > missing people: 5.8%\n"
     ]
    }
   ],
   "source": [
    "locations = people['location'].astype(unicode)#.replace(r'\\s+', np.nan, regex=True)\n",
    "isgood = (locations.str.extract((u'(\\u2026)')).isnull()) & (locations.str.len() > 0)\n",
    "noriginal = len(locations.unique())\n",
    "unique_locations = locations[isgood].unique()\n",
    "nlocations = len(unique_locations)\n",
    "print('There are a total of {:,d} unique locations and {:,d} good ones'.format(noriginal, nlocations))\n",
    "print('  > missing locations: {:0.1f}%'.format((noriginal-nlocations)*100.0/noriginal))\n",
    "print('  > missing people: {:0.1f}%'.format((len(locations)-len(np.where(isgood)[0]))*100.0/len(locations)))"
   ]
  },
  {
   "cell_type": "markdown",
   "metadata": {},
   "source": [
    "* Geolocation APIs are have some pretty serious limits, so this was originally run using a cron job nightly to build up a large map of locations to (lat/lon)"
   ]
  },
  {
   "cell_type": "code",
   "execution_count": 210,
   "metadata": {
    "collapsed": false
   },
   "outputs": [
    {
     "name": "stdout",
     "output_type": "stream",
     "text": [
      "Location cache contains 16,853 locations\n"
     ]
    }
   ],
   "source": [
    "# does not seem to pickup the lat/lon notation from the old db\n",
    "location_map = pd.read_json('/Users/ajmendez/data/okcupid/location_map.json', orient='index')\n",
    "location_map.columns = ['lat', 'lon']\n",
    "print('Location cache contains {:,d} locations'.format(len(location_map)))"
   ]
  },
  {
   "cell_type": "code",
   "execution_count": null,
   "metadata": {
    "collapsed": true
   },
   "outputs": [],
   "source": [
    "# load v2:\n",
    "location_map = pd.read_json('/Users/ajmendez/data/okcupid/locations_v2.json', orient='index')"
   ]
  },
  {
   "cell_type": "code",
   "execution_count": 272,
   "metadata": {
    "collapsed": false
   },
   "outputs": [
    {
     "name": "stdout",
     "output_type": "stream",
     "text": [
      "20217\n"
     ]
    }
   ],
   "source": [
    "geonames = pycupid.locations.getGN()\n",
    "inew = 0\n",
    "for i, location in enumerate(unique_locations):\n",
    "    if location in location_map.index:\n",
    "        continue\n",
    "    print u'Getting location: {}'.format(location)\n",
    "    try:\n",
    "        loc, (lat, lon) = geonames.geocode(location.encode('utf8'))\n",
    "    except Exception as e:\n",
    "        print u'  > Failed: {}'.format(location)\n",
    "#         raise e\n",
    "    \n",
    "    # too many loc* names!\n",
    "    location_map.loc[location] = [lat,lon]\n",
    "    inew += 1\n",
    "    \n",
    "    # give the API a bit of a break\n",
    "    time.sleep(0.2)\n",
    "    \n",
    "    if inew > 1000:\n",
    "        break\n",
    "print len(location_map)"
   ]
  },
  {
   "cell_type": "code",
   "execution_count": 269,
   "metadata": {
    "collapsed": false
   },
   "outputs": [],
   "source": [
    "location_map.to_json('/Users/ajmendez/data/okcupid/locations_v2.json', orient='index')"
   ]
  },
  {
   "cell_type": "markdown",
   "metadata": {},
   "source": [
    "# Push data back into dataframe"
   ]
  },
  {
   "cell_type": "code",
   "execution_count": 259,
   "metadata": {
    "collapsed": false
   },
   "outputs": [
    {
     "name": "stdout",
     "output_type": "stream",
     "text": [
      "0 1000 2000 3000 4000 5000 6000 7000 8000 9000 10000 11000 12000 13000 14000 15000 16000 17000 18000 19000 20000\n"
     ]
    }
   ],
   "source": [
    "finished = []\n",
    "for i, location in enumerate(location_map.index):\n",
    "    if location in finished:\n",
    "        continue\n",
    "    tmp = location_map.loc[location]\n",
    "    isloc = (locations == location)\n",
    "    people.loc[isloc, 'lat'] = tmp['lat']\n",
    "    people.loc[isloc, 'lon'] = tmp['lon']\n",
    "    people.loc[isloc, 'nloc'] = isloc.sum()\n",
    "    finished.append(location)\n",
    "    if (i%1000 == 0):\n",
    "        print i,\n",
    "    "
   ]
  },
  {
   "cell_type": "code",
   "execution_count": 279,
   "metadata": {
    "collapsed": false
   },
   "outputs": [
    {
     "data": {
      "text/plain": [
       "<matplotlib.axes._subplots.AxesSubplot at 0x150aa3910>"
      ]
     },
     "execution_count": 279,
     "metadata": {},
     "output_type": "execute_result"
    },
    {
     "data": {
      "image/png": "[encoded data removed]",
      "text/plain": [
       "<matplotlib.figure.Figure at 0x13a044ed0>"
      ]
     },
     "metadata": {},
     "output_type": "display_data"
    }
   ],
   "source": [
    "# better plots later, this is just a test\n",
    "people.plot('lon', 'lat', kind='scatter', s=2, lw=0, alpha=0.1)"
   ]
  },
  {
   "cell_type": "code",
   "execution_count": 262,
   "metadata": {
    "collapsed": false
   },
   "outputs": [],
   "source": [
    "people.to_csv('/Users/ajmendez/data/okcupid/random_v2.csv', encoding='utf-8')"
   ]
  }
 ],
 "metadata": {
  "kernelspec": {
   "display_name": "Python 2",
   "language": "python",
   "name": "python2"
  },
  "language_info": {
   "codemirror_mode": {
    "name": "ipython",
    "version": 2
   },
   "file_extension": ".py",
   "mimetype": "text/x-python",
   "name": "python",
   "nbconvert_exporter": "python",
   "pygments_lexer": "ipython2",
   "version": "2.7.9"
  }
 },
 "nbformat": 4,
 "nbformat_minor": 0
}
