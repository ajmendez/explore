{
 "cells": [
  {
   "cell_type": "code",
   "execution_count": 141,
   "metadata": {
    "collapsed": true
   },
   "outputs": [],
   "source": [
    "%matplotlib inline\n",
    "import pylab\n",
    "import random\n",
    "import numpy as np\n",
    "import pandas as pd\n",
    "from collections import defaultdict\n",
    "from pysurvey.plot import setup, density, icolorbar"
   ]
  },
  {
   "cell_type": "code",
   "execution_count": 140,
   "metadata": {
    "collapsed": false
   },
   "outputs": [
    {
     "data": {
      "text/plain": [
       "<module 'pysurvey.plot' from '/Users/ajmendez/research/clustering/pySurvey/pysurvey/plot.py'>"
      ]
     },
     "execution_count": 140,
     "metadata": {},
     "output_type": "execute_result"
    }
   ],
   "source": [
    "import  pysurvey.plot\n",
    "reload(pysurvey.plot)"
   ]
  },
  {
   "cell_type": "code",
   "execution_count": 16,
   "metadata": {
    "collapsed": true
   },
   "outputs": [],
   "source": [
    "people = pd.read_json('/Users/ajmendez/data/okcupid/random_v2.json')"
   ]
  },
  {
   "cell_type": "code",
   "execution_count": 53,
   "metadata": {
    "collapsed": false
   },
   "outputs": [
    {
     "data": {
      "text/plain": [
       "[u'Hemeveetz',\n",
       " u'M',\n",
       " u'Micrsmyrm882',\n",
       " u'Atrlinstrirory4',\n",
       " u'Berag',\n",
       " u'Rilidelienaffoknisshr203den_cedy',\n",
       " u'H5100',\n",
       " u'Me16',\n",
       " u'Mali',\n",
       " u'Boflelllina-',\n",
       " u'Linaday',\n",
       " u'Ndz088',\n",
       " u'Jnik',\n",
       " u'Mooxle',\n",
       " u'Se',\n",
       " u'Kf001585ylin10',\n",
       " u'Lypy_all',\n",
       " u'Ewar2417',\n",
       " u'Sev',\n",
       " u'Auakutrh3']"
      ]
     },
     "execution_count": 53,
     "metadata": {},
     "output_type": "execute_result"
    }
   ],
   "source": [
    "# Simple Markov chain generator.\n",
    "# Modified from:\n",
    "#   http://alexeymk.com/2012/07/15/weekend-hack--a-markov-baby-name-generator.html\n",
    "WORD_SEP = ' '\n",
    "class MarkovName(object):\n",
    "    def __init__(self, names):\n",
    "        '''names is a list sampling some population'''\n",
    "        self.chain = defaultdict(list)\n",
    "        self.mean_length = usernames.apply(len).mean()\n",
    "        \n",
    "        for name in names:\n",
    "            proper_name = name.lower().strip()\n",
    "            for first, second in zip(proper_name, proper_name[1:]):\n",
    "                self.chain[first].append(second)\n",
    "            self.chain[proper_name[-1]].append(WORD_SEP)\n",
    "            self.chain[WORD_SEP].append(proper_name[0])\n",
    "    \n",
    "    def __call__(self):\n",
    "        name = []\n",
    "        current = WORD_SEP  # used to mark both first and last character\n",
    "        while not (current == WORD_SEP and name):\n",
    "            current = random.choice(self.chain[current])\n",
    "            name.append(current)\n",
    "        \n",
    "        return ''.join(name).strip().capitalize()\n",
    "\n",
    "usernames = people[people['match'] > 90]['username']\n",
    "highmatch = MarkovName(usernames)\n",
    "[highmatch() for i in range(20)]"
   ]
  },
  {
   "cell_type": "code",
   "execution_count": 54,
   "metadata": {
    "collapsed": false
   },
   "outputs": [
    {
     "data": {
      "text/plain": [
       "<Container object of 10 artists>"
      ]
     },
     "execution_count": 54,
     "metadata": {},
     "output_type": "execute_result"
    },
    {
     "data": {
      "image/png": "[encoded data removed]",
      "text/plain": [
       "<matplotlib.figure.Figure at 0x12634fd50>"
      ]
     },
     "metadata": {},
     "output_type": "display_data"
    }
   ],
   "source": [
    "v,l = np.histogram(usernames.apply(len).as_matrix())\n",
    "pylab.bar(left=l[:-1], width=np.diff(l),\n",
    "          height=v)"
   ]
  },
  {
   "cell_type": "code",
   "execution_count": 70,
   "metadata": {
    "collapsed": false
   },
   "outputs": [
    {
     "data": {
      "text/plain": [
       "[u'Leo82',\n",
       " u'AwakeMySoul14',\n",
       " u'BeerChic86',\n",
       " u'savvieinthecity',\n",
       " u'kumquatayers',\n",
       " u'allmytravels',\n",
       " u'sara_blue_',\n",
       " u'FreeSweetnWitty',\n",
       " u'boomer0811',\n",
       " u'lilleea',\n",
       " u'SuperMaryL',\n",
       " u'sailingtori',\n",
       " u'marg0x',\n",
       " u'theatregirlnyc',\n",
       " u'FroGlass']"
      ]
     },
     "execution_count": 70,
     "metadata": {},
     "output_type": "execute_result"
    }
   ],
   "source": [
    "from random import choice\n",
    "import sys\n",
    "\n",
    "def generateModel(text, order):\n",
    "    model = {}\n",
    "    for i in range(0, len(text) - order):\n",
    "        fragment = text[i:i+order]\n",
    "        next_letter = text[i+order]\n",
    "        if fragment not in model:\n",
    "            model[fragment] = {}\n",
    "        if next_letter not in model[fragment]:\n",
    "            model[fragment][next_letter] = 1\n",
    "        else:\n",
    "            model[fragment][next_letter] += 1\n",
    "    return model\n",
    "\n",
    "def getNextCharacter(model, fragment):\n",
    "    letters = []\n",
    "    for letter in model[fragment].keys():\n",
    "        for times in range(0, model[fragment][letter]):\n",
    "            letters.append(letter)\n",
    "    return choice(letters)\n",
    "\n",
    "def generateText(text, order, length):\n",
    "    model = generateModel(text, order)\n",
    "    currentFragment = text[0:order]\n",
    "    output = []\n",
    "    username = ''\n",
    "    for i in range(0, length-order):\n",
    "        newCharacter = getNextCharacter(model, currentFragment)\n",
    "        username += newCharacter\n",
    "        if newCharacter == ' ':\n",
    "            output.append(username.strip())\n",
    "            username = ''\n",
    "        currentFragment = currentFragment[1:] + newCharacter\n",
    "    return output\n",
    "\n",
    "    \n",
    "tmp = ' '.join(people[people['match'] > 90]['username'])\n",
    "generateText(tmp, order=20, length=200)\n"
   ]
  },
  {
   "cell_type": "code",
   "execution_count": 73,
   "metadata": {
    "collapsed": false
   },
   "outputs": [
    {
     "name": "stdout",
     "output_type": "stream",
     "text": [
      "1160322\n"
     ]
    },
    {
     "data": {
      "text/plain": [
       "[u'atemomma04',\n",
       " u'Binksyboo',\n",
       " u'MsClassyDiva',\n",
       " u'sammie1209',\n",
       " u'Chelles1124',\n",
       " u'curylikedaspice',\n",
       " u'lavishpurple',\n",
       " u'elamay77',\n",
       " u'CMidge87',\n",
       " u'HazelHope82',\n",
       " u'Chasingfaith7',\n",
       " u'Sudden88',\n",
       " u'luvlil8di',\n",
       " u'HopemarieB',\n",
       " u'lovenliving',\n",
       " u'J4lVl13']"
      ]
     },
     "execution_count": 73,
     "metadata": {},
     "output_type": "execute_result"
    }
   ],
   "source": [
    "tmp = ' '.join(people[(people['match'] > 40)  & (people['match'] < 70) ]['username'])\n",
    "print len(tmp)\n",
    "generateText(tmp, order=20, length=200)"
   ]
  },
  {
   "cell_type": "code",
   "execution_count": 75,
   "metadata": {
    "collapsed": true
   },
   "outputs": [],
   "source": [
    "import string"
   ]
  },
  {
   "cell_type": "code",
   "execution_count": 83,
   "metadata": {
    "collapsed": false
   },
   "outputs": [
    {
     "data": {
      "text/plain": [
       "[u'curido',\n",
       " u'HeyCsiga',\n",
       " u'aiaiii',\n",
       " u'sarah',\n",
       " u'bluerose',\n",
       " u'tall_italian1',\n",
       " u'MNyogiRL',\n",
       " u'kingsloverlovr',\n",
       " u'BellicoseBanter',\n",
       " u'a_mackenzieL87',\n",
       " u'kreatyvgirl1211',\n",
       " u'ahoyitssara',\n",
       " u'quirkyAudra',\n",
       " u'bluedanio',\n",
       " u'oforamusings',\n",
       " u'FebruaryWithTheDonsk1206',\n",
       " u'courtney',\n",
       " u'rosequartzdust',\n",
       " u'dancer13',\n",
       " u'Tyj234']"
      ]
     },
     "execution_count": 83,
     "metadata": {},
     "output_type": "execute_result"
    }
   ],
   "source": [
    "def make_words(n=5):\n",
    "    words = people[(people['match'] > 40)  & (people['match'] < 70) ]['username']\n",
    "    words = people[(people['match'] > 90) ]['username']\n",
    "#     words = [w for w in words \n",
    "#              if all([c in string.ascii_lowercase for c in w])]\n",
    "    words = [\"^\" + w + \"$\" for w in words if w != \"\"]\n",
    "\n",
    "    # construct a discrete-time markov chain of n-grams\n",
    "    n = 5 # this is the \"n\" in n-grams, try adjusting this for different results\n",
    "    transitions = defaultdict(lambda: defaultdict(float))\n",
    "    for word in words:\n",
    "        if len(word) >= n:\n",
    "            transitions[\"\"][word[:n]] += 1.0\n",
    "        for i in range(len(word) - n):\n",
    "            gram = word[i : i + n]\n",
    "            next = word[i + 1 : i + n + 1]\n",
    "            transitions[gram][next] += 1.0\n",
    "\n",
    "    # normalize the probabilities\n",
    "    for gram in transitions:\n",
    "        total = sum([transitions[gram][next] for next in transitions[gram]])\n",
    "        for next in transitions[gram]:\n",
    "            transitions[gram][next] /= total\n",
    "    return words, transitions\n",
    "\n",
    "# sample a probability mass function (dict from elements to probabilities)\n",
    "def sample(pmf):\n",
    "    sample = random.random()\n",
    "    cdf = 0.0\n",
    "    for e in pmf:\n",
    "        cdf += pmf[e]\n",
    "        if cdf >= sample:\n",
    "            return e\n",
    "    return random.choice(pmf.keys())\n",
    "\n",
    "# generate a word according to the markov chain\n",
    "def gen_word(n=5):\n",
    "    # start with a prefix\n",
    "    word = sample(transitions[\"\"])\n",
    "    \n",
    "    # wait until the markov chain adds a terminator to the word\n",
    "    while word[-1] != \"$\":\n",
    "        # append a new letter chosen according to the markov chain\n",
    "        gram = word[-n:]\n",
    "        if gram in transitions:\n",
    "            word += sample(transitions[gram])[-1:]\n",
    "        else:\n",
    "            word += choice(ascii_lowercase + \"$\")\n",
    "        \n",
    "        # optional: allow multi-word domains\n",
    "        if word[-1] == \"$\" and random.random() > 0.7 and len(word) < 8:\n",
    "            word += sample(transitions[\"\"])\n",
    "    \n",
    "    # remove the boundary markers and return the word\n",
    "    return word.replace(\"^\", \"\").replace(\"$\", \"\")\n",
    "\n",
    "words, transitions = make_words()\n",
    "[gen_word() for i in range(20)]"
   ]
  },
  {
   "cell_type": "code",
   "execution_count": 82,
   "metadata": {
    "collapsed": false
   },
   "outputs": [
    {
     "data": {
      "text/plain": [
       "[u'ThursdayFae',\n",
       " u'seattle_Abby',\n",
       " u'redgirl14103',\n",
       " u'lxxol',\n",
       " u'Kparksmay',\n",
       " u'pearpril',\n",
       " u'chaezie',\n",
       " u'page3babe',\n",
       " u'Bamadiz',\n",
       " u'Sonia_Celestelm60',\n",
       " u'Littleladylemon12',\n",
       " u'Elle_bluestar2388',\n",
       " u'jcghbcg',\n",
       " u'binbinlady86',\n",
       " u'sweetchubbyD',\n",
       " u'luv_fishtar',\n",
       " u'jazzyjoy',\n",
       " u'jenniferwendyb223',\n",
       " u'sweetCoral-A',\n",
       " u'veronica6789']"
      ]
     },
     "execution_count": 82,
     "metadata": {},
     "output_type": "execute_result"
    }
   ],
   "source": [
    "words, transitions = make_words()\n",
    "[gen_word() for i in range(20)]"
   ]
  }
 ],
 "metadata": {
  "kernelspec": {
   "display_name": "Python 2",
   "language": "python",
   "name": "python2"
  },
  "language_info": {
   "codemirror_mode": {
    "name": "ipython",
    "version": 2
   },
   "file_extension": ".py",
   "mimetype": "text/x-python",
   "name": "python",
   "nbconvert_exporter": "python",
   "pygments_lexer": "ipython2",
   "version": "2.7.9"
  }
 },
 "nbformat": 4,
 "nbformat_minor": 0
}
