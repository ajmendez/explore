{
 "cells": [
  {
   "cell_type": "code",
   "execution_count": 29,
   "metadata": {
    "collapsed": true
   },
   "outputs": [],
   "source": [
    "%matplotlib inline\n",
    "import pylab\n",
    "import random\n",
    "import numpy as np\n",
    "import pandas as pd\n",
    "from collections import defaultdict"
   ]
  },
  {
   "cell_type": "code",
   "execution_count": 16,
   "metadata": {
    "collapsed": true
   },
   "outputs": [],
   "source": [
    "people = pd.read_json('/Users/ajmendez/data/okcupid/random_v2.json')"
   ]
  },
  {
   "cell_type": "code",
   "execution_count": 30,
   "metadata": {
    "collapsed": true
   },
   "outputs": [],
   "source": [
    "# Simple Markov chain generator.\n",
    "# Modified from:\n",
    "#   http://alexeymk.com/2012/07/15/weekend-hack--a-markov-baby-name-generator.html\n",
    "WORD_SEP = ' '\n",
    "class MarkovName(object):\n",
    "    def __init__(self, names):\n",
    "        '''names is a list sampling some population'''\n",
    "        self.chain = defaultdict(list)\n",
    "        self.mean_length = usernames.apply(len).mean()\n",
    "        \n",
    "        for name in names:\n",
    "            proper_name = name.lower().strip()\n",
    "            for first, second in zip(proper_name, proper_name[1:]):\n",
    "                self.chain[first].append(second)\n",
    "            self.chain[proper_name[-1]].append(WORD_SEP)\n",
    "            self.chain[WORD_SEP].append(proper_name[0])\n",
    "    \n",
    "    def __call__(self):\n",
    "        name = []\n",
    "        current = WORD_SEP  # used to mark both first and last character\n",
    "        while not (current == WORD_SEP and name):\n",
    "            current = random.choice(self.chain[current])\n",
    "            if current == WORD_SEP:\n",
    "                if \n",
    "            name.append(current)\n",
    "        \n",
    "        return ''.join(name).strip().capitalize()"
   ]
  },
  {
   "cell_type": "code",
   "execution_count": 48,
   "metadata": {
    "collapsed": false
   },
   "outputs": [
    {
     "data": {
      "text/plain": [
       "<Container object of 10 artists>"
      ]
     },
     "execution_count": 48,
     "metadata": {},
     "output_type": "execute_result"
    },
    {
     "data": {
      "image/png": "[encoded data removed]",
      "text/plain": [
       "<matplotlib.figure.Figure at 0x134906650>"
      ]
     },
     "metadata": {},
     "output_type": "display_data"
    }
   ],
   "source": [
    "v,l = np.histogram(usernames.apply(len).as_matrix())\n",
    "pylab.bar(left=l[:-1], width=np.diff(l),\n",
    "          height=v)"
   ]
  },
  {
   "cell_type": "code",
   "execution_count": 40,
   "metadata": {
    "collapsed": false
   },
   "outputs": [],
   "source": [
    "usernames = people[people['match'] > 90]['username']"
   ]
  },
  {
   "cell_type": "code",
   "execution_count": 35,
   "metadata": {
    "collapsed": false
   },
   "outputs": [],
   "source": [
    "highmatch = MarkovName(usernames)"
   ]
  },
  {
   "cell_type": "code",
   "execution_count": 49,
   "metadata": {
    "collapsed": false
   },
   "outputs": [
    {
     "data": {
      "text/plain": [
       "[u'Anwa',\n",
       " u'W43',\n",
       " u'Heesic',\n",
       " u'Byd',\n",
       " u'Ststri',\n",
       " u'H84',\n",
       " u'Barseerl',\n",
       " u'Sens07',\n",
       " u'Mis',\n",
       " u'Thizisbr428',\n",
       " u'Kse8',\n",
       " u'Jifmckamapot_s',\n",
       " u'Ju',\n",
       " u'Antattoucykaig',\n",
       " u'Ngeetamine15',\n",
       " u'Fr7',\n",
       " u'Fux001',\n",
       " u'Lbounwes',\n",
       " u'Mntangkauviduer',\n",
       " u'Jethororleappheladabeenalyserepardoly']"
      ]
     },
     "execution_count": 49,
     "metadata": {},
     "output_type": "execute_result"
    }
   ],
   "source": [
    "[highmatch() for i in range(20)]"
   ]
  },
  {
   "cell_type": "code",
   "execution_count": null,
   "metadata": {
    "collapsed": true
   },
   "outputs": [],
   "source": [
    "# get a list of words with only ASCII characters\n",
    "words = [w.strip().lower() for w in open(\"/usr/share/dict/words\").readlines()]\n",
    "words = [w for w in words if all([c in ascii_lowercase for c in w])]\n",
    "words = [\"^\" + w + \"$\" for w in words if w != \"\"]\n",
    "\n",
    "# construct a discrete-time markov chain of n-grams\n",
    "n = 5 # this is the \"n\" in n-grams, try adjusting this for different results\n",
    "transitions = defaultdict(lambda: defaultdict(float))\n",
    "for word in words:\n",
    "  if len(word) >= n:\n",
    "    transitions[\"\"][word[:n]] += 1.0\n",
    "  for i in range(len(word) - n):\n",
    "    gram = word[i : i + n]\n",
    "    next = word[i + 1 : i + n + 1]\n",
    "    transitions[gram][next] += 1.0\n",
    "\n",
    "# normalize the probabilities\n",
    "for gram in transitions:\n",
    "  total = sum([transitions[gram][next] for next in transitions[gram]])\n",
    "  for next in transitions[gram]:\n",
    "    transitions[gram][next] /= total\n",
    "\n",
    "# sample a probability mass function (dict from elements to probabilities)\n",
    "def sample(pmf):\n",
    "  sample = random()\n",
    "  cdf = 0.0\n",
    "  for e in pmf:\n",
    "    cdf += pmf[e]\n",
    "    if cdf >= sample:\n",
    "      return e\n",
    "  return choice(pmf.keys())\n",
    "\n",
    "# generate a word according to the markov chain\n",
    "def gen_word():\n",
    "  # start with a prefix\n",
    "  word = sample(transitions[\"\"])\n",
    "\n",
    "  # wait until the markov chain adds a terminator to the word\n",
    "  while word[-1] != \"$\":\n",
    "    # append a new letter chosen according to the markov chain\n",
    "    gram = word[-n:]\n",
    "    if gram in transitions:\n",
    "      word += sample(transitions[gram])[-1:]\n",
    "    else:\n",
    "      word += choice(ascii_lowercase + \"$\")\n",
    "\n",
    "    # optional: allow multi-word domains\n",
    "    if word[-1] == \"$\" and random() > 0.7 and len(word) < 8:\n",
    "      word += sample(transitions[\"\"])\n",
    "\n",
    "  # remove the boundary markers and return the word\n",
    "  return word.replace(\"^\", \"\").replace(\"$\", \"\")\n"
   ]
  }
 ],
 "metadata": {
  "kernelspec": {
   "display_name": "Python 2",
   "language": "python",
   "name": "python2"
  },
  "language_info": {
   "codemirror_mode": {
    "name": "ipython",
    "version": 2
   },
   "file_extension": ".py",
   "mimetype": "text/x-python",
   "name": "python",
   "nbconvert_exporter": "python",
   "pygments_lexer": "ipython2",
   "version": "2.7.9"
  }
 },
 "nbformat": 4,
 "nbformat_minor": 0
}
