{
 "cells": [
  {
   "cell_type": "code",
   "execution_count": 38,
   "metadata": {
    "collapsed": false
   },
   "outputs": [],
   "source": [
    "%matplotlib inline\n",
    "import os\n",
    "\n",
    "from pprint import pprint\n",
    "import numpy as np\n",
    "import pandas as pd\n",
    "from planet import api\n",
    "import matplotlib.pyplot as plt"
   ]
  },
  {
   "cell_type": "code",
   "execution_count": 23,
   "metadata": {
    "collapsed": true
   },
   "outputs": [],
   "source": [
    "client = api.Client()"
   ]
  },
  {
   "cell_type": "code",
   "execution_count": 24,
   "metadata": {
    "collapsed": false
   },
   "outputs": [],
   "source": [
    "mosaics = client.list_mosaics().get()"
   ]
  },
  {
   "cell_type": "code",
   "execution_count": 25,
   "metadata": {
    "collapsed": false
   },
   "outputs": [
    {
     "data": {
      "text/plain": [
       "[u'landsat8_toa_rgb_mosaic',\n",
       " u'open_california_planetscope_mosaic',\n",
       " u're_california_summer_mosaic',\n",
       " u'open_california_hybrid_mosaic',\n",
       " u'open_california_re_20130901_20131130',\n",
       " u'open_california_re_20131201_20140228',\n",
       " u'open_california_re_20140101_20141231',\n",
       " u'open_california_re_20140301_20140531',\n",
       " u'open_california_re_20140601_20140831',\n",
       " u'open_california_re_20140901_20141130',\n",
       " u'open_california_re_20141201_20150228',\n",
       " u'open_california_re_20150101_20151231',\n",
       " u'open_california_re_20150301_20150531',\n",
       " u'open_california_re_20150601_20150831']"
      ]
     },
     "execution_count": 25,
     "metadata": {},
     "output_type": "execute_result"
    }
   ],
   "source": [
    "[m['name'] for m in mosaics['mosaics']]"
   ]
  },
  {
   "cell_type": "code",
   "execution_count": 26,
   "metadata": {
    "collapsed": false
   },
   "outputs": [
    {
     "data": {
      "text/plain": [
       "{u'coordinate_system': u'EPSG:3857',\n",
       " u'datatype': u'uint16',\n",
       " u'first_acquired': u'2015-06-11T00:00:00+00:00',\n",
       " u'geometry': {u'coordinates': [[[-124.551309208076, 32.3817750302967],\n",
       "    [-124.551309208076, 42.1341418694333],\n",
       "    [-113.945370784834, 42.1341418694333],\n",
       "    [-113.945370784834, 32.3817750302967],\n",
       "    [-124.551309208076, 32.3817750302967]]],\n",
       "  u'type': u'Polygon'},\n",
       " u'last_acquired': u'2015-08-31T23:59:59.999999+00:00',\n",
       " u'level': 15,\n",
       " u'links': {u'quadmap': u'https://api.planet.com/v0/mosaics/open_california_re_20150601_20150831/quad-map.png',\n",
       "  u'quads': u'https://api.planet.com/v0/mosaics/open_california_re_20150601_20150831/quads/',\n",
       "  u'self': u'https://api.planet.com/v0/mosaics/open_california_re_20150601_20150831',\n",
       "  u'tiles': u'https://tiles{0-3}.planet.com/v0/mosaics/open_california_re_20150601_20150831/{z}/{x}/{y}.png'},\n",
       " u'name': u'open_california_re_20150601_20150831',\n",
       " u'quad_pattern': u'L{glevel:d}-{tilex:04d}E-{tiley:04d}N',\n",
       " u'quad_size': 4096,\n",
       " u'resolution': 4.77731426716,\n",
       " u'scene_type': u'rapideye',\n",
       " u'title': u'Open California RapidEye Summer 2015 Mosaic'}"
      ]
     },
     "execution_count": 26,
     "metadata": {},
     "output_type": "execute_result"
    }
   ],
   "source": [
    "mosaic = client.get_mosaic('open_california_re_20150601_20150831')\n",
    "mosaic.get()"
   ]
  },
  {
   "cell_type": "code",
   "execution_count": 27,
   "metadata": {
    "collapsed": false
   },
   "outputs": [
    {
     "data": {
      "text/plain": [
       "{u'features': [{u'geometry': {u'coordinates': [[[-123.925781233,\n",
       "       39.3682791446],\n",
       "      [-123.925781233, 39.2322531372],\n",
       "      [-123.749999983, 39.2322531372],\n",
       "      [-123.749999983, 39.3682791446],\n",
       "      [-123.925781233, 39.3682791446]]],\n",
       "    u'type': u'Polygon'},\n",
       "   u'id': u'L15-0319E-1267N',\n",
       "   u'properties': {u'links': {u'full': u'https://api.planet.com/v0/mosaics/open_california_re_20150601_20150831/quads/L15-0319E-1267N/full',\n",
       "     u'mosaic': u'https://api.planet.com/v0/mosaics/open_california_re_20150601_20150831',\n",
       "     u'scenes': u'https://api.planet.com/v0/mosaics/open_california_re_20150601_20150831/quads/L15-0319E-1267N/scenes/',\n",
       "     u'self': u'https://api.planet.com/v0/mosaics/open_california_re_20150601_20150831/quads/L15-0319E-1267N',\n",
       "     u'thumbnail': u'https://api.planet.com/v0/mosaics/open_california_re_20150601_20150831/quads/L15-0319E-1267N/thumb'},\n",
       "    u'num_input_scenes': 6,\n",
       "    u'percent_covered': 100.0,\n",
       "    u'updated': u'2016-03-04T04:07:48.539853+00:00'},\n",
       "   u'type': u'Feature'}],\n",
       " u'links': {u'first': u'https://api.planet.com/v0/mosaics/open_california_re_20150601_20150831/quads/?count=50&intersects=%7B%22type%22%3A+%22Point%22%2C+%22coordinates%22%3A+%5B-123.79394531249999%2C+39.291797043774864%5D%7D',\n",
       "  u'next': u'https://api.planet.com/v0/mosaics/open_california_re_20150601_20150831/quads/?count=50&intersects=%7B%22type%22%3A+%22Point%22%2C+%22coordinates%22%3A+%5B-123.79394531249999%2C+39.291797043774864%5D%7D&_page.updated.lt=2016-03-04T04%3A07%3A48.539853%2B00%3A00',\n",
       "  u'prev': u'https://api.planet.com/v0/mosaics/open_california_re_20150601_20150831/quads/?count=50&intersects=%7B%22type%22%3A+%22Point%22%2C+%22coordinates%22%3A+%5B-123.79394531249999%2C+39.291797043774864%5D%7D&_page.updated.gt=2016-03-04T04%3A07%3A48.539853%2B00%3A00',\n",
       "  u'self': u'https://api.planet.com/v0/mosaics/open_california_re_20150601_20150831/quads/?count=50&intersects=%7B%22type%22%3A+%22Point%22%2C+%22coordinates%22%3A+%5B-123.79394531249999%2C+39.291797043774864%5D%7D'},\n",
       " u'type': u'FeatureCollection'}"
      ]
     },
     "execution_count": 27,
     "metadata": {},
     "output_type": "execute_result"
    }
   ],
   "source": [
    "location = {\"type\":\"Point\",\"coordinates\":[-123.79394531249999,39.291797043774864]}\n",
    "client.get_mosaic_quads('open_california_re_20150601_20150831',\n",
    "                        intersects=location).get()"
   ]
  },
  {
   "cell_type": "code",
   "execution_count": 41,
   "metadata": {
    "collapsed": true
   },
   "outputs": [],
   "source": [
    "points = np.load('/Users/ajmendez/tmp/world/coast_points.np.npy')\n",
    "downloaded = []"
   ]
  },
  {
   "cell_type": "code",
   "execution_count": 46,
   "metadata": {
    "collapsed": false
   },
   "outputs": [],
   "source": [
    "mosaic_name = 'open_california_re_20150601_20150831'\n",
    "\n",
    "outdir = '/Users/ajmendez/tmp/world/planet/{}'.format(mosaic_name)\n",
    "if not os.path.exists(outdir):\n",
    "    os.makedirs(outdir)\n",
    "callback = api.write_to_file(outdir)\n",
    "\n",
    "for point in points:\n",
    "    location = {\"type\":\"Point\",\"coordinates\":list(point)}\n",
    "    quad = client.get_mosaic_quads(mosaic_name, intersects=location).get()\n",
    "    for q in quad['features']:\n",
    "        qid = q['id']\n",
    "        if qid in downloaded:\n",
    "            continue\n",
    "        downloaded.append(qid)\n",
    "        bodies = client.fetch_mosaic_quad_geotiffs(mosaic_name, [qid], callback=callback)\n",
    "        for i,b in enumerate(bodies):\n",
    "            b.await()\n",
    "            print i, qid\n",
    "    break"
   ]
  },
  {
   "cell_type": "code",
   "execution_count": null,
   "metadata": {
    "collapsed": true
   },
   "outputs": [],
   "source": [
    "p"
   ]
  },
  {
   "cell_type": "code",
   "execution_count": 70,
   "metadata": {
    "collapsed": false
   },
   "outputs": [],
   "source": [
    "outlines = {}\n",
    "for i,point in enumerate(points):\n",
    "    location = {\"type\":\"Point\",\"coordinates\":list(point)}\n",
    "    quad = client.get_mosaic_quads(mosaic_name, intersects=location).get()\n",
    "    for q in quad['features']:\n",
    "        qid = q['id']\n",
    "        if qid in outlines:\n",
    "            continue\n",
    "        \n",
    "        outlines[qid] = (q['geometry']['coordinates'][0])\n",
    "    break\n",
    "#     if len(outlines) > 2:\n",
    "#         break"
   ]
  },
  {
   "cell_type": "code",
   "execution_count": null,
   "metadata": {
    "collapsed": false
   },
   "outputs": [],
   "source": [
    "def chunks(l, n):\n",
    "    \"\"\"Yield successive n-sized chunks from l.\"\"\"\n",
    "    for i in range(0, len(l), n):\n",
    "        yield l[i:i+n]\n",
    "# for i, chunk in enumerate(chunks(points, 600)):\n",
    "#     print i, len(chunk)"
   ]
  },
  {
   "cell_type": "code",
   "execution_count": 98,
   "metadata": {
    "collapsed": false
   },
   "outputs": [],
   "source": [
    "for i, chunk in enumerate(chunks(points[::-1], 100)):\n",
    "    location = {\"type\":\"LineString\",\"coordinates\":[list(p) for p in chunk]}\n",
    "    quads = client.get_mosaic_quads(mosaic_name, intersects=location).get()\n",
    "    for q in quads['features']:\n",
    "        qid = q['id']\n",
    "        if qid in outlines:\n",
    "            continue\n",
    "        outlines[qid] = (q['geometry']['coordinates'][0])"
   ]
  },
  {
   "cell_type": "code",
   "execution_count": 99,
   "metadata": {
    "collapsed": false
   },
   "outputs": [
    {
     "data": {
      "image/png": "[encoded data removed]",
      "text/plain": [
       "<matplotlib.figure.Figure at 0x110ec25d0>"
      ]
     },
     "metadata": {},
     "output_type": "display_data"
    }
   ],
   "source": [
    "plt.figure(figsize=(6,9))\n",
    "plt.xlim(-125, -114)\n",
    "plt.ylim(32, 42.1)\n",
    "for key, outline in outlines.iteritems():\n",
    "    x,y = zip(*outline)\n",
    "    plt.plot(x,y)"
   ]
  },
  {
   "cell_type": "code",
   "execution_count": null,
   "metadata": {
    "collapsed": false
   },
   "outputs": [],
   "source": [
    "for i, oids in enumerate(chunks(outlines.keys(), 10)):\n",
    "    quads = client.fetch_mosaic_quad_geotiffs(mosaic_name, oids, callback=callback)\n",
    "    quads = client.\n",
    "    for q in quads:\n",
    "        q.await()"
   ]
  },
  {
   "cell_type": "code",
   "execution_count": 1,
   "metadata": {
    "collapsed": false
   },
   "outputs": [],
   "source": [
    "# outlines"
   ]
  },
  {
   "cell_type": "code",
   "execution_count": null,
   "metadata": {
    "collapsed": true
   },
   "outputs": [],
   "source": [
    "s"
   ]
  }
 ],
 "metadata": {
  "kernelspec": {
   "display_name": "Python 2",
   "language": "python",
   "name": "python2"
  },
  "language_info": {
   "codemirror_mode": {
    "name": "ipython",
    "version": 2
   },
   "file_extension": ".py",
   "mimetype": "text/x-python",
   "name": "python",
   "nbconvert_exporter": "python",
   "pygments_lexer": "ipython2",
   "version": "2.7.9"
  }
 },
 "nbformat": 4,
 "nbformat_minor": 0
}
