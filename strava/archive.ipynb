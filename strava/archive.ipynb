{
 "cells": [
  {
   "cell_type": "code",
   "execution_count": 6,
   "metadata": {
    "collapsed": false
   },
   "outputs": [],
   "source": [
    "import os\n",
    "import glob\n",
    "import gpxpy "
   ]
  },
  {
   "cell_type": "code",
   "execution_count": 27,
   "metadata": {
    "collapsed": false
   },
   "outputs": [
    {
     "name": "stdout",
     "output_type": "stream",
     "text": [
      "Point at (39.343845,-76.638745) -> 95.5\n",
      "    {'TrackPointExtension': '\\n      '}\n"
     ]
    }
   ],
   "source": [
    "filepattern = '/Users/ajmendez/Downloads/activities/*.gpx'\n",
    "for filename in sorted(glob.glob(filepattern), reverse=True):\n",
    "    with open(filename, 'r') as f:\n",
    "        gpx = gpxpy.parse(f)\n",
    "    for track in gpx.tracks: \n",
    "        for segment in track.segments: \n",
    "            for point in segment.points: \n",
    "                print('Point at ({0},{1}) -> {2}'.format(point.latitude, point.longitude, point.elevation))\n",
    "                print('    {}'.format(point.extensions))\n",
    "                break\n",
    "    break"
   ]
  },
  {
   "cell_type": "code",
   "execution_count": 26,
   "metadata": {
    "collapsed": false
   },
   "outputs": [],
   "source": [
    "point.type_of_gpx_fix"
   ]
  },
  {
   "cell_type": "code",
   "execution_count": null,
   "metadata": {
    "collapsed": true
   },
   "outputs": [],
   "source": []
  }
 ],
 "metadata": {
  "kernelspec": {
   "display_name": "Python 3",
   "language": "python",
   "name": "python3"
  },
  "language_info": {
   "codemirror_mode": {
    "name": "ipython",
    "version": 3
   },
   "file_extension": ".py",
   "mimetype": "text/x-python",
   "name": "python",
   "nbconvert_exporter": "python",
   "pygments_lexer": "ipython3",
   "version": "3.5.1"
  }
 },
 "nbformat": 4,
 "nbformat_minor": 0
}
