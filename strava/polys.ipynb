{
 "cells": [
  {
   "cell_type": "code",
   "execution_count": 1,
   "metadata": {
    "collapsed": true
   },
   "outputs": [],
   "source": [
    "# due to the many changes to the lib, lets just run with the master branch off of github\n",
    "import sys\n",
    "sys.path.insert(0, '/Users/ajmendez/tmp/stravalib/')"
   ]
  },
  {
   "cell_type": "code",
   "execution_count": 33,
   "metadata": {
    "collapsed": true
   },
   "outputs": [],
   "source": [
    "import requests\n",
    "from pymendez import auth\n",
    "from stravalib.client import Client\n",
    "from polyline.codec import PolylineCodec"
   ]
  },
  {
   "cell_type": "code",
   "execution_count": null,
   "metadata": {
    "collapsed": true
   },
   "outputs": [],
   "source": []
  },
  {
   "cell_type": "code",
   "execution_count": 3,
   "metadata": {
    "collapsed": true
   },
   "outputs": [],
   "source": [
    "client_id, secret, code, token = auth('strava', ['client_id', 'secret', 'code', 'token'])"
   ]
  },
  {
   "cell_type": "code",
   "execution_count": 21,
   "metadata": {
    "collapsed": false
   },
   "outputs": [
    {
     "name": "stdout",
     "output_type": "stream",
     "text": [
      "Usage: 8,19 of 600,30000\n"
     ]
    }
   ],
   "source": [
    "def _status():\n",
    "    response = requests.get('https://www.strava.com/api/v3/athlete', params=dict(access_token=token))\n",
    "    headers = response.headers\n",
    "    try:\n",
    "        print 'Usage: {} of {}'.format(headers['x-ratelimit-usage'], headers['x-ratelimit-limit'])\n",
    "    except KeyError as e:\n",
    "        print headers\n",
    "\n",
    "_status()"
   ]
  },
  {
   "cell_type": "code",
   "execution_count": 6,
   "metadata": {
    "collapsed": false
   },
   "outputs": [
    {
     "name": "stdout",
     "output_type": "stream",
     "text": [
      "already authorized\n"
     ]
    }
   ],
   "source": [
    "client = Client()\n",
    "if len(code) == 0:\n",
    "    authorize_url = client.authorization_url(client_id=client_id, \n",
    "                                             redirect_uri='http://localhost:8282/authorized')\n",
    "    print authorize_url\n",
    "    code = raw_input('What was the code in the url bar? ').strip()\n",
    "    token = client.exchange_code_for_token(client_id=client_id, client_secret=secret, code=code)\n",
    "    print access_token\n",
    "    print ' Please update the code: {} and token: {}'.format(code, token)\n",
    "else:\n",
    "    print 'already authorized'\n",
    "    client.access_token = token"
   ]
  },
  {
   "cell_type": "code",
   "execution_count": 7,
   "metadata": {
    "collapsed": false
   },
   "outputs": [],
   "source": [
    "athlete = client.get_athlete()"
   ]
  },
  {
   "cell_type": "code",
   "execution_count": 8,
   "metadata": {
    "collapsed": false
   },
   "outputs": [],
   "source": [
    "activities = client.get_activities()"
   ]
  },
  {
   "cell_type": "code",
   "execution_count": 9,
   "metadata": {
    "collapsed": false
   },
   "outputs": [],
   "source": [
    "activity = next(activities)"
   ]
  },
  {
   "cell_type": "code",
   "execution_count": 34,
   "metadata": {
    "collapsed": false
   },
   "outputs": [
    {
     "data": {
      "text/plain": [
       "[(39.34384, -76.63875),\n",
       " (39.3425, -76.63908),\n",
       " (39.34233, -76.63841),\n",
       " (39.34306, -76.63693),\n",
       " (39.34248, -76.63591),\n",
       " (39.34109, -76.63545),\n",
       " (39.34103, -76.63463),\n",
       " (39.34145, -76.63422),\n",
       " (39.33929, -76.63146),\n",
       " (39.33925, -76.62801),\n",
       " (39.33625, -76.62369),\n",
       " (39.33507, -76.62335),\n",
       " (39.33442, -76.62212),\n",
       " (39.33313, -76.62249),\n",
       " (39.33256, -76.62178),\n",
       " (39.33161, -76.62326)]"
      ]
     },
     "execution_count": 34,
     "metadata": {},
     "output_type": "execute_result"
    }
   ],
   "source": [
    "polycodec = PolylineCodec()\n",
    "polycodec.decode(activity.map.summary_polyline)"
   ]
  },
  {
   "cell_type": "code",
   "execution_count": null,
   "metadata": {
    "collapsed": true
   },
   "outputs": [],
   "source": []
  }
 ],
 "metadata": {
  "kernelspec": {
   "display_name": "Python 2",
   "language": "python",
   "name": "python2"
  },
  "language_info": {
   "codemirror_mode": {
    "name": "ipython",
    "version": 2
   },
   "file_extension": ".py",
   "mimetype": "text/x-python",
   "name": "python",
   "nbconvert_exporter": "python",
   "pygments_lexer": "ipython2",
   "version": "2.7.9"
  }
 },
 "nbformat": 4,
 "nbformat_minor": 0
}
