{
 "cells": [
  {
   "cell_type": "code",
   "execution_count": 1,
   "metadata": {
    "collapsed": true
   },
   "outputs": [],
   "source": [
    "%matplotlib inline"
   ]
  },
  {
   "cell_type": "code",
   "execution_count": 2,
   "metadata": {
    "collapsed": true
   },
   "outputs": [],
   "source": [
    "import numpy as np\n",
    "import pandas as pd\n",
    "\n",
    "from sklearn import metrics\n",
    "from sklearn import preprocessing\n",
    "from sklearn.cross_validation import train_test_split\n",
    "from sklearn.decomposition import PCA\n",
    "from sklearn.manifold import TSNE\n",
    "\n",
    "\n",
    "import seaborn as sns\n",
    "sns.set_style('whitegrid')\n",
    "import matplotlib.pyplot as plt"
   ]
  },
  {
   "cell_type": "code",
   "execution_count": 6,
   "metadata": {
    "collapsed": true
   },
   "outputs": [],
   "source": [
    "df = pd.read_csv('/Users/ajmendez/Downloads/bank-additional/bank-additional-full.csv',\n",
    "                 sep=';')"
   ]
  },
  {
   "cell_type": "code",
   "execution_count": 7,
   "metadata": {
    "collapsed": false
   },
   "outputs": [
    {
     "data": {
      "text/html": [
       "<div>\n",
       "<table border=\"1\" class=\"dataframe\">\n",
       "  <thead>\n",
       "    <tr style=\"text-align: right;\">\n",
       "      <th></th>\n",
       "      <th>age</th>\n",
       "      <th>duration</th>\n",
       "      <th>campaign</th>\n",
       "      <th>pdays</th>\n",
       "      <th>previous</th>\n",
       "      <th>emp.var.rate</th>\n",
       "      <th>cons.price.idx</th>\n",
       "      <th>cons.conf.idx</th>\n",
       "      <th>euribor3m</th>\n",
       "      <th>nr.employed</th>\n",
       "    </tr>\n",
       "  </thead>\n",
       "  <tbody>\n",
       "    <tr>\n",
       "      <th>count</th>\n",
       "      <td>41188.00000</td>\n",
       "      <td>41188.000000</td>\n",
       "      <td>41188.000000</td>\n",
       "      <td>41188.000000</td>\n",
       "      <td>41188.000000</td>\n",
       "      <td>41188.000000</td>\n",
       "      <td>41188.000000</td>\n",
       "      <td>41188.000000</td>\n",
       "      <td>41188.000000</td>\n",
       "      <td>41188.000000</td>\n",
       "    </tr>\n",
       "    <tr>\n",
       "      <th>mean</th>\n",
       "      <td>40.02406</td>\n",
       "      <td>258.285010</td>\n",
       "      <td>2.567593</td>\n",
       "      <td>962.475454</td>\n",
       "      <td>0.172963</td>\n",
       "      <td>0.081886</td>\n",
       "      <td>93.575664</td>\n",
       "      <td>-40.502600</td>\n",
       "      <td>3.621291</td>\n",
       "      <td>5167.035911</td>\n",
       "    </tr>\n",
       "    <tr>\n",
       "      <th>std</th>\n",
       "      <td>10.42125</td>\n",
       "      <td>259.279249</td>\n",
       "      <td>2.770014</td>\n",
       "      <td>186.910907</td>\n",
       "      <td>0.494901</td>\n",
       "      <td>1.570960</td>\n",
       "      <td>0.578840</td>\n",
       "      <td>4.628198</td>\n",
       "      <td>1.734447</td>\n",
       "      <td>72.251528</td>\n",
       "    </tr>\n",
       "    <tr>\n",
       "      <th>min</th>\n",
       "      <td>17.00000</td>\n",
       "      <td>0.000000</td>\n",
       "      <td>1.000000</td>\n",
       "      <td>0.000000</td>\n",
       "      <td>0.000000</td>\n",
       "      <td>-3.400000</td>\n",
       "      <td>92.201000</td>\n",
       "      <td>-50.800000</td>\n",
       "      <td>0.634000</td>\n",
       "      <td>4963.600000</td>\n",
       "    </tr>\n",
       "    <tr>\n",
       "      <th>25%</th>\n",
       "      <td>32.00000</td>\n",
       "      <td>102.000000</td>\n",
       "      <td>1.000000</td>\n",
       "      <td>999.000000</td>\n",
       "      <td>0.000000</td>\n",
       "      <td>-1.800000</td>\n",
       "      <td>93.075000</td>\n",
       "      <td>-42.700000</td>\n",
       "      <td>1.344000</td>\n",
       "      <td>5099.100000</td>\n",
       "    </tr>\n",
       "    <tr>\n",
       "      <th>50%</th>\n",
       "      <td>38.00000</td>\n",
       "      <td>180.000000</td>\n",
       "      <td>2.000000</td>\n",
       "      <td>999.000000</td>\n",
       "      <td>0.000000</td>\n",
       "      <td>1.100000</td>\n",
       "      <td>93.749000</td>\n",
       "      <td>-41.800000</td>\n",
       "      <td>4.857000</td>\n",
       "      <td>5191.000000</td>\n",
       "    </tr>\n",
       "    <tr>\n",
       "      <th>75%</th>\n",
       "      <td>47.00000</td>\n",
       "      <td>319.000000</td>\n",
       "      <td>3.000000</td>\n",
       "      <td>999.000000</td>\n",
       "      <td>0.000000</td>\n",
       "      <td>1.400000</td>\n",
       "      <td>93.994000</td>\n",
       "      <td>-36.400000</td>\n",
       "      <td>4.961000</td>\n",
       "      <td>5228.100000</td>\n",
       "    </tr>\n",
       "    <tr>\n",
       "      <th>max</th>\n",
       "      <td>98.00000</td>\n",
       "      <td>4918.000000</td>\n",
       "      <td>56.000000</td>\n",
       "      <td>999.000000</td>\n",
       "      <td>7.000000</td>\n",
       "      <td>1.400000</td>\n",
       "      <td>94.767000</td>\n",
       "      <td>-26.900000</td>\n",
       "      <td>5.045000</td>\n",
       "      <td>5228.100000</td>\n",
       "    </tr>\n",
       "  </tbody>\n",
       "</table>\n",
       "</div>"
      ],
      "text/plain": [
       "               age      duration      campaign         pdays      previous  \\\n",
       "count  41188.00000  41188.000000  41188.000000  41188.000000  41188.000000   \n",
       "mean      40.02406    258.285010      2.567593    962.475454      0.172963   \n",
       "std       10.42125    259.279249      2.770014    186.910907      0.494901   \n",
       "min       17.00000      0.000000      1.000000      0.000000      0.000000   \n",
       "25%       32.00000    102.000000      1.000000    999.000000      0.000000   \n",
       "50%       38.00000    180.000000      2.000000    999.000000      0.000000   \n",
       "75%       47.00000    319.000000      3.000000    999.000000      0.000000   \n",
       "max       98.00000   4918.000000     56.000000    999.000000      7.000000   \n",
       "\n",
       "       emp.var.rate  cons.price.idx  cons.conf.idx     euribor3m   nr.employed  \n",
       "count  41188.000000    41188.000000   41188.000000  41188.000000  41188.000000  \n",
       "mean       0.081886       93.575664     -40.502600      3.621291   5167.035911  \n",
       "std        1.570960        0.578840       4.628198      1.734447     72.251528  \n",
       "min       -3.400000       92.201000     -50.800000      0.634000   4963.600000  \n",
       "25%       -1.800000       93.075000     -42.700000      1.344000   5099.100000  \n",
       "50%        1.100000       93.749000     -41.800000      4.857000   5191.000000  \n",
       "75%        1.400000       93.994000     -36.400000      4.961000   5228.100000  \n",
       "max        1.400000       94.767000     -26.900000      5.045000   5228.100000  "
      ]
     },
     "execution_count": 7,
     "metadata": {},
     "output_type": "execute_result"
    }
   ],
   "source": [
    "df.describe()"
   ]
  },
  {
   "cell_type": "code",
   "execution_count": 8,
   "metadata": {
    "collapsed": false
   },
   "outputs": [
    {
     "data": {
      "text/plain": [
       "[('poutcome', 0.063974329495790822),\n",
       " ('contact', 0.017724409216299135),\n",
       " ('duration', 0.01235247012967758),\n",
       " ('job', 0.0047094532425354194),\n",
       " ('campaign', 0.0016892994224096314),\n",
       " ('marital', 0.0015227678571156829),\n",
       " ('education', 0.0013002646581772531),\n",
       " ('loan', -1.9812804868203938e-05)]"
      ]
     },
     "execution_count": 8,
     "metadata": {},
     "output_type": "execute_result"
    }
   ],
   "source": [
    "f_list = ['education','job','marital','contact',\n",
    "          'campaign','duration','loan','poutcome']\n",
    "sorted([(feature,metrics.adjusted_mutual_info_score(df[feature],df['y'])) \n",
    "         for feature in f_list],\n",
    "       key=lambda x: x[1], reverse=True)"
   ]
  },
  {
   "cell_type": "code",
   "execution_count": 9,
   "metadata": {
    "collapsed": false
   },
   "outputs": [],
   "source": [
    "test_size=.33\n",
    "\n",
    "pp_data = df.copy()\n",
    "data_labels = pd.Series([0 if x == 'no' else 1 for x in df.ix[:,-1]])\n",
    "\n",
    "# Scale numeric data\n",
    "dts_cols = [0,10, 11, 12,13,15,16,17,18,19]\n",
    "data_to_scale = pp_data.iloc[:, dts_cols].astype(np.float)  # change int to float\n",
    "scaler = preprocessing.StandardScaler().fit(data_to_scale)\n",
    "pp_data.iloc[:, dts_cols] = scaler.transform(data_to_scale)\n",
    "\n",
    "# Create dummy encoding for categorical data\n",
    "dtde_cols = [1, 2, 3, 4, 5, 6, 7, 8, 9, 14]\n",
    "data_to_de = pp_data.iloc[:,dtde_cols]\n",
    "de_data = pd.get_dummies(data_to_de)\n",
    "pp_data.drop(pp_data.columns[dtde_cols], axis=1, inplace=True)\n",
    "pp_data = pp_data.merge(de_data, how='inner',left_index=True, right_index=True, copy=False)\n",
    "\n",
    "pp_data.drop('y',1,inplace=True)\n",
    "\n",
    "X = pp_data.values\n",
    "y = data_labels.values\n",
    "X_train, X_test, y_train, y_test = train_test_split(X, y, test_size=test_size, random_state=42)\n"
   ]
  },
  {
   "cell_type": "code",
   "execution_count": 10,
   "metadata": {
    "collapsed": false
   },
   "outputs": [
    {
     "data": {
      "text/plain": [
       "pdays                            0.597829\n",
       "euribor3m                        0.474219\n",
       "emp.var.rate                     0.471998\n",
       "nr.employed                      0.451640\n",
       "cons.price.idx                   0.362964\n",
       "previous                         0.301984\n",
       "poutcome_nonexistent             0.116694\n",
       "contact_telephone                0.113103\n",
       "cons.conf.idx                    0.103478\n",
       "campaign                         0.096786\n",
       "contact_cellular                 0.094763\n",
       "marital_single                   0.058200\n",
       "month_jul                        0.050922\n",
       "default_unknown                  0.044991\n",
       "month_apr                        0.042105\n",
       "month_jun                        0.037294\n",
       "poutcome_success                 0.036876\n",
       "month_may                        0.033442\n",
       "default_no                       0.025134\n",
       "duration                         0.024252\n",
       "marital_married                  0.023555\n",
       "housing_yes                      0.023131\n",
       "job_blue-collar                  0.022197\n",
       "month_aug                        0.019087\n",
       "education_high.school            0.018277\n",
       "housing_no                       0.017682\n",
       "poutcome_failure                 0.016568\n",
       "education_basic.9y               0.016017\n",
       "month_oct                        0.013246\n",
       "job_services                     0.011612\n",
       "                                   ...   \n",
       "day_of_week_thu                  0.007681\n",
       "day_of_week_mon                  0.006958\n",
       "job_technician                   0.006889\n",
       "job_admin.                       0.006568\n",
       "education_basic.4y               0.005839\n",
       "day_of_week_wed                  0.004599\n",
       "loan_yes                         0.003903\n",
       "education_basic.6y               0.003695\n",
       "month_dec                        0.003505\n",
       "age                              0.003335\n",
       "job_housemaid                    0.002746\n",
       "marital_divorced                 0.002597\n",
       "day_of_week_tue                  0.002570\n",
       "education_professional.course    0.002451\n",
       "day_of_week_fri                  0.001664\n",
       "job_entrepreneur                 0.001642\n",
       "job_self-employed                0.001626\n",
       "job_management                   0.001620\n",
       "job_unemployed                   0.001208\n",
       "job_unknown                      0.000763\n",
       "month_mar                        0.000437\n",
       "loan_unknown                     0.000426\n",
       "housing_unknown                  0.000426\n",
       "job_student                      0.000425\n",
       "education_university.degree      0.000338\n",
       "education_unknown                0.000325\n",
       "loan_no                          0.000176\n",
       "marital_unknown                  0.000090\n",
       "education_illiterate             0.000022\n",
       "default_yes                      0.000011\n",
       "dtype: float64"
      ]
     },
     "execution_count": 10,
     "metadata": {},
     "output_type": "execute_result"
    }
   ],
   "source": [
    "pca = PCA(n_components=2)\n",
    "pca.fit_transform(pp_data)\n",
    "\n",
    "pca_df = pd.DataFrame(pca.components_,columns=pp_data.columns,index = ['PC-1','PC-2'])\n",
    "\n",
    "np.abs(pca_df.max(axis=0)).sort_values(ascending=False) # regardless of sign\n"
   ]
  },
  {
   "cell_type": "code",
   "execution_count": 11,
   "metadata": {
    "collapsed": false
   },
   "outputs": [
    {
     "data": {
      "text/plain": [
       "(array([  0.,  10.,  20.,  30.,  40.,  50.,  60.,  70.]),\n",
       " <a list of 8 Text xticklabel objects>)"
      ]
     },
     "execution_count": 11,
     "metadata": {},
     "output_type": "execute_result"
    },
    {
     "data": {
      "image/png": "[encoded data removed]",
      "text/plain": [
       "<matplotlib.figure.Figure at 0x112289090>"
      ]
     },
     "metadata": {},
     "output_type": "display_data"
    }
   ],
   "source": [
    "np.abs(pca_df.max(axis=0)).sort_values(ascending=False).plot()\n",
    "plt.xticks(rotation='vertical')\n"
   ]
  },
  {
   "cell_type": "code",
   "execution_count": 12,
   "metadata": {
    "collapsed": false
   },
   "outputs": [
    {
     "data": {
      "text/plain": [
       "contact_telephone     contact_cellular   -1.000000\n",
       "default_unknown       default_no         -0.999780\n",
       "housing_yes           housing_no         -0.952819\n",
       "poutcome_success      pdays              -0.950700\n",
       "loan_yes              loan_no            -0.915840\n",
       "poutcome_nonexistent  previous           -0.878776\n",
       "                      poutcome_failure   -0.853119\n",
       "marital_single        marital_married    -0.773785\n",
       "contact_cellular      cons.price.idx     -0.591474\n",
       "previous              pdays              -0.587514\n",
       "contact_telephone     cons.price.idx      0.591474\n",
       "poutcome_failure      previous            0.682608\n",
       "euribor3m             cons.price.idx      0.688230\n",
       "cons.price.idx        emp.var.rate        0.775334\n",
       "nr.employed           emp.var.rate        0.906970\n",
       "                      euribor3m           0.945154\n",
       "euribor3m             emp.var.rate        0.972245\n",
       "loan_unknown          housing_unknown     1.000000\n",
       "dtype: float64"
      ]
     },
     "execution_count": 12,
     "metadata": {},
     "output_type": "execute_result"
    }
   ],
   "source": [
    "cor = pp_data.corr()\n",
    "cor.loc[:,:] = np.tril(cor, k=-1) # below main lower triangle of an array\n",
    "cor = cor.stack()\n",
    "(cor[(cor > 0.55) | (cor < -0.55)]).sort_values()\n"
   ]
  },
  {
   "cell_type": "code",
   "execution_count": null,
   "metadata": {
    "collapsed": true
   },
   "outputs": [],
   "source": [
    "\n",
    "t_X = pp_data.ix[:,:10].values # lets only use the standard scaled data\n",
    "\n",
    "# perform t-SNE embedding\n",
    "tsne = TSNE(n_components=2, init='random', random_state=0)\n",
    "Y = tsne.fit_transform(t_X)\n"
   ]
  },
  {
   "cell_type": "code",
   "execution_count": null,
   "metadata": {
    "collapsed": true
   },
   "outputs": [],
   "source": [
    "plt.scatter(Y[:, 0], Y[:, 1], c=y, cmap=plt.cm.Set3,s=30,alpha=.8)\n"
   ]
  },
  {
   "cell_type": "code",
   "execution_count": null,
   "metadata": {
    "collapsed": true
   },
   "outputs": [],
   "source": []
  }
 ],
 "metadata": {
  "kernelspec": {
   "display_name": "Python 2",
   "language": "python",
   "name": "python2"
  },
  "language_info": {
   "codemirror_mode": {
    "name": "ipython",
    "version": 2
   },
   "file_extension": ".py",
   "mimetype": "text/x-python",
   "name": "python",
   "nbconvert_exporter": "python",
   "pygments_lexer": "ipython2",
   "version": "2.7.9"
  }
 },
 "nbformat": 4,
 "nbformat_minor": 0
}
