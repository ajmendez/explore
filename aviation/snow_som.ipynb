{
 "cells": [
  {
   "cell_type": "code",
   "execution_count": 4,
   "metadata": {
    "collapsed": true
   },
   "outputs": [],
   "source": [
    "import os\n",
    "import glob\n",
    "import LatLon \n",
    "import numpy as np\n",
    "import pandas as pd\n",
    "pd.set_option('display.max_rows', 5)\n",
    "\n",
    "# plot\n",
    "%matplotlib inline\n",
    "import pylab\n",
    "import seaborn as sns\n",
    "sns.set_style(\"whitegrid\")\n",
    "from pysurvey.plot import setup, legend, icolorbar, density\n",
    "\n",
    "# date\n",
    "from dateutil import parser\n",
    "from matplotlib.dates import date2num\n",
    "\n",
    "# database\n",
    "import dataset\n",
    "from sqlalchemy import create_engine\n",
    "from sqlalchemy_utils import database_exists, create_database\n",
    "\n",
    "import sompy as SOM"
   ]
  },
  {
   "cell_type": "code",
   "execution_count": 3,
   "metadata": {
    "collapsed": false
   },
   "outputs": [],
   "source": [
    "before = pd.DataFrame.from_csv('/Users/ajmendez/tmp/flight/flight_before.csv')\n",
    "after = pd.DataFrame.from_csv('/Users/ajmendez/tmp/flight/flight_after.csv')"
   ]
  },
  {
   "cell_type": "code",
   "execution_count": 8,
   "metadata": {
    "collapsed": false
   },
   "outputs": [
    {
     "data": {
      "text/html": [
       "<div>\n",
       "<table border=\"1\" class=\"dataframe\">\n",
       "  <thead>\n",
       "    <tr style=\"text-align: right;\">\n",
       "      <th></th>\n",
       "      <th>alt</th>\n",
       "      <th>lat</th>\n",
       "      <th>lon</th>\n",
       "      <th>flightnum</th>\n",
       "      <th>datenum</th>\n",
       "      <th>hour</th>\n",
       "      <th>heading_deg</th>\n",
       "      <th>distance</th>\n",
       "      <th>heading</th>\n",
       "      <th>x</th>\n",
       "      <th>y</th>\n",
       "    </tr>\n",
       "  </thead>\n",
       "  <tbody>\n",
       "    <tr>\n",
       "      <th>555452</th>\n",
       "      <td>19975</td>\n",
       "      <td>39.90788</td>\n",
       "      <td>-76.57513</td>\n",
       "      <td>2804</td>\n",
       "      <td>4.083520</td>\n",
       "      <td>2.004485</td>\n",
       "      <td>3.696297</td>\n",
       "      <td>64.091509</td>\n",
       "      <td>0.064513</td>\n",
       "      <td>-42.303614</td>\n",
       "      <td>48.146918</td>\n",
       "    </tr>\n",
       "    <tr>\n",
       "      <th>555453</th>\n",
       "      <td>19975</td>\n",
       "      <td>39.90756</td>\n",
       "      <td>-76.57704</td>\n",
       "      <td>2804</td>\n",
       "      <td>4.083526</td>\n",
       "      <td>2.004627</td>\n",
       "      <td>3.552561</td>\n",
       "      <td>64.045640</td>\n",
       "      <td>0.062004</td>\n",
       "      <td>-42.393904</td>\n",
       "      <td>48.006259</td>\n",
       "    </tr>\n",
       "    <tr>\n",
       "      <th>...</th>\n",
       "      <td>...</td>\n",
       "      <td>...</td>\n",
       "      <td>...</td>\n",
       "      <td>...</td>\n",
       "      <td>...</td>\n",
       "      <td>...</td>\n",
       "      <td>...</td>\n",
       "      <td>...</td>\n",
       "      <td>...</td>\n",
       "      <td>...</td>\n",
       "      <td>...</td>\n",
       "    </tr>\n",
       "    <tr>\n",
       "      <th>870159</th>\n",
       "      <td>16175</td>\n",
       "      <td>39.10835</td>\n",
       "      <td>-77.00293</td>\n",
       "      <td>2065</td>\n",
       "      <td>5.926931</td>\n",
       "      <td>22.246340</td>\n",
       "      <td>232.990672</td>\n",
       "      <td>41.103616</td>\n",
       "      <td>-2.216731</td>\n",
       "      <td>-5.713891</td>\n",
       "      <td>-40.704529</td>\n",
       "    </tr>\n",
       "    <tr>\n",
       "      <th>870160</th>\n",
       "      <td>16225</td>\n",
       "      <td>39.10779</td>\n",
       "      <td>-77.00024</td>\n",
       "      <td>2065</td>\n",
       "      <td>5.926944</td>\n",
       "      <td>22.246651</td>\n",
       "      <td>232.724426</td>\n",
       "      <td>40.956478</td>\n",
       "      <td>-2.221378</td>\n",
       "      <td>-5.504905</td>\n",
       "      <td>-40.584839</td>\n",
       "    </tr>\n",
       "  </tbody>\n",
       "</table>\n",
       "<p>85293 rows × 11 columns</p>\n",
       "</div>"
      ],
      "text/plain": [
       "          alt       lat       lon  flightnum   datenum       hour  \\\n",
       "555452  19975  39.90788 -76.57513       2804  4.083520   2.004485   \n",
       "555453  19975  39.90756 -76.57704       2804  4.083526   2.004627   \n",
       "...       ...       ...       ...        ...       ...        ...   \n",
       "870159  16175  39.10835 -77.00293       2065  5.926931  22.246340   \n",
       "870160  16225  39.10779 -77.00024       2065  5.926944  22.246651   \n",
       "\n",
       "        heading_deg   distance   heading          x          y  \n",
       "555452     3.696297  64.091509  0.064513 -42.303614  48.146918  \n",
       "555453     3.552561  64.045640  0.062004 -42.393904  48.006259  \n",
       "...             ...        ...       ...        ...        ...  \n",
       "870159   232.990672  41.103616 -2.216731  -5.713891 -40.704529  \n",
       "870160   232.724426  40.956478 -2.221378  -5.504905 -40.584839  \n",
       "\n",
       "[85293 rows x 11 columns]"
      ]
     },
     "execution_count": 8,
     "metadata": {},
     "output_type": "execute_result"
    }
   ],
   "source": [
    "clean_tags = ['flight', 'date', 'time', 'weekday', 'normtime', #'datenum', \n",
    "#               'alt', 'distance', 'heading_deg', 'heading', 'x', 'y'\n",
    "             ]\n",
    "input_tags = ['lat', 'lon', 'alt', 'hour', 'flightnum']\n",
    "before_simple = before[before['alt'] < 20000].drop(clean_tags, axis=1)\n",
    "after_simple = after[after['alt'] < 20000].drop(clean_tags, axis=1)\n",
    "\n",
    "before_simple"
   ]
  },
  {
   "cell_type": "code",
   "execution_count": 9,
   "metadata": {
    "collapsed": true
   },
   "outputs": [],
   "source": [
    "somdata = np.zeros( (len(before_simple), len(input_tags)) )\n",
    "for i, tag in enumerate(input_tags):\n",
    "    somdata[:,i] = before_simple[tag]"
   ]
  },
  {
   "cell_type": "code",
   "execution_count": 10,
   "metadata": {
    "collapsed": true
   },
   "outputs": [],
   "source": [
    "nz = 100\n",
    "sm = SOM.SOM('sm', somdata, names=input_tags, \n",
    "             mapsize=(nz, nz), norm_method = 'var', initmethod='pca', neigh='Guassian')"
   ]
  },
  {
   "cell_type": "code",
   "execution_count": null,
   "metadata": {
    "collapsed": false
   },
   "outputs": [
    {
     "name": "stdout",
     "output_type": "stream",
     "text": [
      "\n",
      "initialization method = pca, initializing..\n",
      "\n",
      "initialization done in 0.148000 seconds\n",
      "\n",
      "rough training...\n",
      "radius_ini: 13.000000 , radius_final: 3.250000, trainlen: 4\n",
      "\n",
      "epoch: 1 ---> elapsed time:  5.838000, quantization error: 1.543030 \n",
      "\n",
      "epoch: 2 ---> elapsed time:  6.576000, quantization error: 1.291100 \n",
      "\n",
      "epoch: 3 ---> elapsed time:  6.406000, quantization error: 0.880868 \n",
      "\n",
      "epoch: 4 ---> elapsed time:  6.989000, quantization error: 0.655456 \n",
      "\n"
     ]
    }
   ],
   "source": [
    "sm.train(n_job=1, shared_memory='no',verbose='on')"
   ]
  },
  {
   "cell_type": "code",
   "execution_count": null,
   "metadata": {
    "collapsed": true
   },
   "outputs": [],
   "source": [
    "sm.view_map(text_size=12, COL_SiZe=2)"
   ]
  },
  {
   "cell_type": "code",
   "execution_count": null,
   "metadata": {
    "collapsed": true
   },
   "outputs": [],
   "source": [
    "index = sm.ind_to_xy(sm.project_data(somdata))"
   ]
  }
 ],
 "metadata": {
  "kernelspec": {
   "display_name": "Python 2",
   "language": "python",
   "name": "python2"
  },
  "language_info": {
   "codemirror_mode": {
    "name": "ipython",
    "version": 2
   },
   "file_extension": ".py",
   "mimetype": "text/x-python",
   "name": "python",
   "nbconvert_exporter": "python",
   "pygments_lexer": "ipython2",
   "version": "2.7.9"
  }
 },
 "nbformat": 4,
 "nbformat_minor": 0
}
