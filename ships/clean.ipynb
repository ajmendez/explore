{
 "cells": [
  {
   "cell_type": "code",
   "execution_count": 1,
   "metadata": {
    "collapsed": true
   },
   "outputs": [],
   "source": [
    "import os\n",
    "import time\n",
    "import glob\n",
    "import LatLon \n",
    "import numpy as np\n",
    "import pandas as pd\n",
    "from sklearn import metrics\n",
    "from datetime import datetime\n",
    "from matplotlib.dates import date2num\n",
    "pd.set_option('display.max_rows', 10)\n",
    "\n",
    "%matplotlib inline\n",
    "import pylab\n",
    "import geoplotlib\n",
    "import seaborn as sns\n",
    "sns.set_style(\"whitegrid\")\n",
    "from mpl_toolkits import basemap\n",
    "from pysurvey.plot import setup, legend, icolorbar, density, text\n",
    "from sklearn import cluster"
   ]
  },
  {
   "cell_type": "markdown",
   "metadata": {},
   "source": [
    "# Load Data"
   ]
  },
  {
   "cell_type": "code",
   "execution_count": 2,
   "metadata": {
    "collapsed": false
   },
   "outputs": [
    {
     "name": "stdout",
     "output_type": "stream",
     "text": [
      "Number of records: 280,280\n"
     ]
    },
    {
     "name": "stderr",
     "output_type": "stream",
     "text": [
      "/Users/ajmendez/.local/canopy/User/lib/python2.7/site-packages/IPython/core/interactiveshell.py:2902: DtypeWarning: Columns (5,6,7,8,11,13,18,19,23,24,25,26,28,29,30,34,35,38,43,44,46,73,77,81,82,84,85,87,88,94,96,97,98,99,111,114,116,119,120,122,124,125,127,129,131,133,135,137,140) have mixed types. Specify dtype option on import or set low_memory=False.\n",
      "  interactivity=interactivity, compiler=compiler, result=result)\n"
     ]
    }
   ],
   "source": [
    "shipdata = pd.read_csv('/Users/ajmendez/tmp/ships/climate-data-from-ocean-ships/CLIWOC15.csv')\n",
    "print('Number of records: {:,d}'.format(len(shipdata)))"
   ]
  },
  {
   "cell_type": "markdown",
   "metadata": {},
   "source": [
    "## Simple lat/lon\n",
    "\n",
    "Not the greatest, but this some libraries break on non numbers.  The poles are not shown so that is ok"
   ]
  },
  {
   "cell_type": "code",
   "execution_count": 3,
   "metadata": {
    "collapsed": true
   },
   "outputs": [],
   "source": [
    "shipdata['lon'] = shipdata['Lon3'].fillna(-180)\n",
    "shipdata['lat'] = shipdata['Lat3'].fillna(-90)"
   ]
  },
  {
   "cell_type": "markdown",
   "metadata": {},
   "source": [
    "## Clean up Nationality"
   ]
  },
  {
   "cell_type": "code",
   "execution_count": 4,
   "metadata": {
    "collapsed": false
   },
   "outputs": [
    {
     "name": "stdout",
     "output_type": "stream",
     "text": [
      "['American' 'British' 'Danish' 'Dutch' 'French' 'Hamburg' 'Spanish'\n",
      " 'Swedish']\n"
     ]
    }
   ],
   "source": [
    "shipdata['nat'] = shipdata['Nationality'].replace('British ', 'British')\n",
    "print np.unique(shipdata['nat'])"
   ]
  },
  {
   "cell_type": "markdown",
   "metadata": {},
   "source": [
    "## Add some better dates"
   ]
  },
  {
   "cell_type": "code",
   "execution_count": 5,
   "metadata": {
    "collapsed": false
   },
   "outputs": [
    {
     "name": "stdout",
     "output_type": "stream",
     "text": [
      "(1764, 9, 31)\n",
      "(1788, 6, 31)\n",
      "(1841, 6, 31)\n",
      "(1850, 11, 31)\n",
      "(1773, 2, 29)\n",
      "(1794, 6, 31)\n",
      "(1845, 9, 31)\n",
      "(1769, 2, 29)\n",
      "(1774, 9, 31)\n",
      "(1779, 6, 31)\n"
     ]
    }
   ],
   "source": [
    "def _datetime(*args, **kwargs):\n",
    "    '''This ends up being the same as UTC, but it does not include the hour'''\n",
    "    try:\n",
    "        return datetime(*args, **kwargs)\n",
    "    except Exception as e:\n",
    "        # Broken dates where the day extends past the number of days in the month\n",
    "        if args[2] in [31,29]:\n",
    "            print args\n",
    "            return datetime(args[0], args[1], args[2]-1)\n",
    "        print args\n",
    "        raise\n",
    "shipdata['date'] = map(_datetime, shipdata['Year'], shipdata['Month'], shipdata['Day'])\n",
    "shipdata['datenum'] = shipdata['date'].apply(date2num)"
   ]
  },
  {
   "cell_type": "markdown",
   "metadata": {},
   "source": [
    "## Add from/to for network graph"
   ]
  },
  {
   "cell_type": "code",
   "execution_count": 6,
   "metadata": {
    "collapsed": false
   },
   "outputs": [
    {
     "name": "stdout",
     "output_type": "stream",
     "text": [
      "Found 864 and 900 unique locations\n"
     ]
    }
   ],
   "source": [
    "def clean(x):\n",
    "    x = x.decode('ascii','replace').strip().lower().split('(')[0].split(',')[0].strip()\n",
    "    x = x.replace('roads', '').replace('road', '').replace(' uk', '').replace('.', '').replace(\"'\",'').strip()\n",
    "    return x.encode('ascii', 'replace')\n",
    "shipdata['from'] = shipdata['VoyageFrom'].astype('str').map(clean)\n",
    "shipdata['to'] = shipdata['VoyageTo'].astype('str').map(clean)\n",
    "print('Found {} and {} unique locations'.format(len(np.unique(shipdata['from'])), len(np.unique(shipdata['to']))))"
   ]
  },
  {
   "cell_type": "code",
   "execution_count": 7,
   "metadata": {
    "collapsed": false
   },
   "outputs": [
    {
     "name": "stdout",
     "output_type": "stream",
     "text": [
      "Found 1449 total, and 1449 unique locations\n"
     ]
    }
   ],
   "source": [
    "def get_named():\n",
    "    '''from/to have bundles of similar names so use lat/lon location of the end of the trip to match them\n",
    "    up.  First build up a dataframe of these locations'''\n",
    "    lat, lon, name, number  = [], [], [], []\n",
    "    items = ['from', 'to']\n",
    "    for item in items:\n",
    "        arr = shipdata[item]\n",
    "        ind = 0 if (item == 'from') else -1\n",
    "        for n in np.unique(arr):\n",
    "            tmp = shipdata[(arr == n) &\n",
    "                           shipdata['Lat3'].notnull() & \n",
    "                           shipdata['Lon3'].notnull()].sort_values(by='datenum')\n",
    "            if len(tmp) > 10:\n",
    "                lat.append(tmp['Lat3'].iloc[ind])\n",
    "                lon.append(tmp['Lon3'].iloc[ind])\n",
    "                name.append(n)\n",
    "                number.append(len(tmp))\n",
    "    return pd.DataFrame.from_items(dict(lat=lat, lon=lon, number=number, name=name).iteritems())\n",
    "\n",
    "named_places = get_named()\n",
    "print('Found {} total, and {} unique locations'.format(len(named_places), len(named_places['name'])))"
   ]
  },
  {
   "cell_type": "code",
   "execution_count": 10,
   "metadata": {
    "collapsed": false
   },
   "outputs": [
    {
     "name": "stdout",
     "output_type": "stream",
     "text": [
      "Found: 55 location groups\n"
     ]
    }
   ],
   "source": [
    "def get_cluster(bandwidth=0.1):\n",
    "    places = named_places.copy()\n",
    "#     print cluster.estimate_bandwidth(named_places[['lon','lat']].as_matrix(), quantile=0.01)\n",
    "    ms = cluster.MeanShift(bandwidth=bandwidth)\n",
    "    ms.fit(places[['lon','lat']])\n",
    "\n",
    "    labels = ms.labels_\n",
    "    cluster_centers = ms.cluster_centers_\n",
    "    labels_unique = np.unique(labels)\n",
    "    n_clusters_ = len(labels_unique)\n",
    "    print 'Found: {:,d} location groups'.format(n_clusters_)\n",
    "    \n",
    "    for k, label in enumerate(labels_unique):\n",
    "        isgood = (labels == label)\n",
    "        \n",
    "        best_label = places.loc[isgood, ['name','number']].sort_values(by='number')['name'].iloc[-1]\n",
    "        places.loc[isgood, 'label'] = best_label\n",
    "        \n",
    "        center = cluster_centers[k]\n",
    "        places.loc[isgood, 'clon'] = center[0]\n",
    "        places.loc[isgood, 'clat'] = center[1]\n",
    "        \n",
    "    return ms, places\n",
    "\n",
    "# small bandwidth for city scales\n",
    "# ms, meanshift_places = get_cluster(0.1)\n",
    "    \n",
    "# large bandwidth for more country scales\n",
    "# More useful to track where things are going.\n",
    "ms, meanshift_places = get_cluster(10.0)"
   ]
  },
  {
   "cell_type": "code",
   "execution_count": 11,
   "metadata": {
    "collapsed": true
   },
   "outputs": [],
   "source": [
    "def map_clusters(places, arrname):\n",
    "    arr = shipdata[arrname]\n",
    "    uname = np.unique(arr)\n",
    "    for name in uname:\n",
    "        tmp = places[places['name'] == name]\n",
    "        if len(tmp) <= 1:\n",
    "            continue\n",
    "        tmp = tmp.iloc[0]\n",
    "#         assert len(tmp) == 1, IndexError('Found multiple: {}\\n {}'.format(name, tmp))\n",
    "        isname = (arr == name)\n",
    "        shipdata.loc[isname, arrname+'_label'] = tmp['label']\n",
    "        shipdata.loc[isname, arrname+'_lon'] = tmp['clon']\n",
    "        shipdata.loc[isname, arrname+'_lat'] = tmp['clat']\n",
    "\n",
    "    \n",
    "map_clusters(meanshift_places, 'from')\n",
    "map_clusters(meanshift_places, 'to')"
   ]
  },
  {
   "cell_type": "code",
   "execution_count": 12,
   "metadata": {
    "collapsed": false
   },
   "outputs": [],
   "source": [
    "# Cleaned up version\n",
    "filename = '/Users/ajmendez/tmp/ships/ships_clean.csv'\n",
    "shipdata.to_csv(filename)\n",
    "# shipdata = pd.read_csv(filename)"
   ]
  },
  {
   "cell_type": "code",
   "execution_count": null,
   "metadata": {
    "collapsed": true
   },
   "outputs": [],
   "source": []
  }
 ],
 "metadata": {
  "kernelspec": {
   "display_name": "Python 2",
   "language": "python",
   "name": "python2"
  },
  "language_info": {
   "codemirror_mode": {
    "name": "ipython",
    "version": 2
   },
   "file_extension": ".py",
   "mimetype": "text/x-python",
   "name": "python",
   "nbconvert_exporter": "python",
   "pygments_lexer": "ipython2",
   "version": "2.7.9"
  }
 },
 "nbformat": 4,
 "nbformat_minor": 0
}
